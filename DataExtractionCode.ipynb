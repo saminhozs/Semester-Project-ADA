{
 "cells": [
  {
   "cell_type": "code",
   "execution_count": 201,
   "metadata": {},
   "outputs": [],
   "source": [
    "#https://github.com/tgel0/spotify-data/blob/master/notebooks/SpotifyDataRetrieval.ipynb\n",
    "import spotipy\n",
    "from spotipy.oauth2 import SpotifyClientCredentials\n",
    "\n",
    "cid =\"05a142b1de0f4d6795dce128df645791\" \n",
    "secret = \"da6c86eca5574ca1a6f666a8cfde0e35\"\n",
    "\n",
    "client_credentials_manager = SpotifyClientCredentials(client_id=cid, client_secret=secret)\n",
    "sp = spotipy.Spotify(client_credentials_manager=client_credentials_manager)"
   ]
  },
  {
   "cell_type": "code",
   "execution_count": 202,
   "metadata": {},
   "outputs": [
    {
     "name": "stdout",
     "output_type": "stream",
     "text": [
      "Time to run this code (in seconds): 8.894239249999998\n"
     ]
    }
   ],
   "source": [
    "# timeit library to measure the time needed to run this code\n",
    "import timeit\n",
    "start = timeit.default_timer()\n",
    "\n",
    "# create empty lists where the results are going to be stored\n",
    "artist_name = []\n",
    "track_name = []\n",
    "popularity = []\n",
    "track_id = []\n",
    "\n",
    "for i in range(0,1000,50):\n",
    "    track_results = sp.search(q='year:2009 and genre:rap', type='track', limit=50,offset=i)\n",
    "    for i, t in enumerate(track_results['tracks']['items']):\n",
    "        artist_name.append(t['artists'][0]['name'])\n",
    "        track_name.append(t['name'])\n",
    "        track_id.append(t['id'])\n",
    "        popularity.append(t['popularity'])\n",
    "      \n",
    "\n",
    "stop = timeit.default_timer()\n",
    "print ('Time to run this code (in seconds):', stop - start)"
   ]
  },
  {
   "cell_type": "code",
   "execution_count": 203,
   "metadata": {},
   "outputs": [
    {
     "name": "stdout",
     "output_type": "stream",
     "text": [
      "number of elements in the track_id list: 1000\n"
     ]
    }
   ],
   "source": [
    "print('number of elements in the track_id list:', len(track_id))"
   ]
  },
  {
   "cell_type": "code",
   "execution_count": 204,
   "metadata": {},
   "outputs": [
    {
     "name": "stdout",
     "output_type": "stream",
     "text": [
      "(1000, 4)\n"
     ]
    },
    {
     "data": {
      "text/html": [
       "<div>\n",
       "<style scoped>\n",
       "    .dataframe tbody tr th:only-of-type {\n",
       "        vertical-align: middle;\n",
       "    }\n",
       "\n",
       "    .dataframe tbody tr th {\n",
       "        vertical-align: top;\n",
       "    }\n",
       "\n",
       "    .dataframe thead th {\n",
       "        text-align: right;\n",
       "    }\n",
       "</style>\n",
       "<table border=\"1\" class=\"dataframe\">\n",
       "  <thead>\n",
       "    <tr style=\"text-align: right;\">\n",
       "      <th></th>\n",
       "      <th>artist_name</th>\n",
       "      <th>track_name</th>\n",
       "      <th>track_id</th>\n",
       "      <th>popularity</th>\n",
       "    </tr>\n",
       "  </thead>\n",
       "  <tbody>\n",
       "    <tr>\n",
       "      <th>0</th>\n",
       "      <td>Kid Cudi</td>\n",
       "      <td>Day 'N' Nite (nightmare)</td>\n",
       "      <td>5FEXPoPnzueFJQCPRIrC3c</td>\n",
       "      <td>69</td>\n",
       "    </tr>\n",
       "    <tr>\n",
       "      <th>1</th>\n",
       "      <td>Kid Cudi</td>\n",
       "      <td>Day 'N' Nite (nightmare)</td>\n",
       "      <td>5wfllwdjglyQislkskYLBv</td>\n",
       "      <td>69</td>\n",
       "    </tr>\n",
       "    <tr>\n",
       "      <th>2</th>\n",
       "      <td>Jay Sean</td>\n",
       "      <td>Down</td>\n",
       "      <td>6cmm1LMvZdB5zsCwX5BjqE</td>\n",
       "      <td>77</td>\n",
       "    </tr>\n",
       "    <tr>\n",
       "      <th>3</th>\n",
       "      <td>Kid Cudi</td>\n",
       "      <td>Up Up &amp; Away</td>\n",
       "      <td>1RUTIdTnFs8lHSc0Zr4UJB</td>\n",
       "      <td>64</td>\n",
       "    </tr>\n",
       "    <tr>\n",
       "      <th>4</th>\n",
       "      <td>Drake</td>\n",
       "      <td>Forever</td>\n",
       "      <td>5UsLjwBaTHBX4ektWIr4XX</td>\n",
       "      <td>71</td>\n",
       "    </tr>\n",
       "  </tbody>\n",
       "</table>\n",
       "</div>"
      ],
      "text/plain": [
       "  artist_name                track_name                track_id  popularity\n",
       "0    Kid Cudi  Day 'N' Nite (nightmare)  5FEXPoPnzueFJQCPRIrC3c          69\n",
       "1    Kid Cudi  Day 'N' Nite (nightmare)  5wfllwdjglyQislkskYLBv          69\n",
       "2    Jay Sean                      Down  6cmm1LMvZdB5zsCwX5BjqE          77\n",
       "3    Kid Cudi              Up Up & Away  1RUTIdTnFs8lHSc0Zr4UJB          64\n",
       "4       Drake                   Forever  5UsLjwBaTHBX4ektWIr4XX          71"
      ]
     },
     "execution_count": 204,
     "metadata": {},
     "output_type": "execute_result"
    }
   ],
   "source": [
    "import pandas as pd\n",
    "\n",
    "df_tracks = pd.DataFrame({'artist_name':artist_name,'track_name':track_name,'track_id':track_id,'popularity':popularity})\n",
    "print(df_tracks.shape)\n",
    "df_tracks.head()"
   ]
  },
  {
   "cell_type": "code",
   "execution_count": 205,
   "metadata": {},
   "outputs": [
    {
     "name": "stdout",
     "output_type": "stream",
     "text": [
      "<class 'pandas.core.frame.DataFrame'>\n",
      "RangeIndex: 1000 entries, 0 to 999\n",
      "Data columns (total 4 columns):\n",
      " #   Column       Non-Null Count  Dtype \n",
      "---  ------       --------------  ----- \n",
      " 0   artist_name  1000 non-null   object\n",
      " 1   track_name   1000 non-null   object\n",
      " 2   track_id     1000 non-null   object\n",
      " 3   popularity   1000 non-null   int64 \n",
      "dtypes: int64(1), object(3)\n",
      "memory usage: 31.4+ KB\n"
     ]
    }
   ],
   "source": [
    "df_tracks.info()"
   ]
  },
  {
   "cell_type": "code",
   "execution_count": 206,
   "metadata": {},
   "outputs": [
    {
     "data": {
      "text/plain": [
       "96"
      ]
     },
     "execution_count": 206,
     "metadata": {},
     "output_type": "execute_result"
    }
   ],
   "source": [
    "# group the entries by artist_name and track_name and check for duplicates\n",
    "\n",
    "grouped = df_tracks.groupby(['artist_name','track_name'], as_index=True).size()\n",
    "grouped[grouped > 1].count()"
   ]
  },
  {
   "cell_type": "code",
   "execution_count": 207,
   "metadata": {},
   "outputs": [],
   "source": [
    "df_tracks.drop_duplicates(subset=['artist_name','track_name'], inplace=True)"
   ]
  },
  {
   "cell_type": "code",
   "execution_count": 208,
   "metadata": {},
   "outputs": [
    {
     "data": {
      "text/plain": [
       "0"
      ]
     },
     "execution_count": 208,
     "metadata": {},
     "output_type": "execute_result"
    }
   ],
   "source": [
    "# doing the same grouping as before to verify the solution\n",
    "grouped_after_dropping = df_tracks.groupby(['artist_name','track_name'], as_index=True).size()\n",
    "grouped_after_dropping[grouped_after_dropping > 1].count()"
   ]
  },
  {
   "cell_type": "code",
   "execution_count": 209,
   "metadata": {},
   "outputs": [
    {
     "data": {
      "text/plain": [
       "artist_name    0\n",
       "track_name     0\n",
       "track_id       0\n",
       "popularity     0\n",
       "dtype: int64"
      ]
     },
     "execution_count": 209,
     "metadata": {},
     "output_type": "execute_result"
    }
   ],
   "source": [
    "\n",
    "df_tracks[df_tracks.duplicated(subset=['artist_name','track_name'],keep=False)].count()"
   ]
  },
  {
   "cell_type": "code",
   "execution_count": 210,
   "metadata": {},
   "outputs": [
    {
     "data": {
      "text/plain": [
       "(898, 4)"
      ]
     },
     "execution_count": 210,
     "metadata": {},
     "output_type": "execute_result"
    }
   ],
   "source": [
    "df_tracks.shape"
   ]
  },
  {
   "cell_type": "code",
   "execution_count": 211,
   "metadata": {},
   "outputs": [
    {
     "name": "stdout",
     "output_type": "stream",
     "text": [
      "Number of tracks where no audio features were available: 0\n",
      "Time to run this code (in seconds): 2.351437625000017\n"
     ]
    }
   ],
   "source": [
    "# again measuring the time\n",
    "start = timeit.default_timer()\n",
    "\n",
    "# empty list, batchsize and the counter for None results\n",
    "rows = []\n",
    "batchsize = 100\n",
    "None_counter = 0\n",
    "\n",
    "for i in range(0,len(df_tracks['track_id']),batchsize):\n",
    "    batch = df_tracks['track_id'][i:i+batchsize]\n",
    "    feature_results = sp.audio_features(batch)\n",
    "    for i, t in enumerate(feature_results):\n",
    "        if t == None:\n",
    "            None_counter = None_counter + 1\n",
    "        else:\n",
    "            rows.append(t)\n",
    "            \n",
    "print('Number of tracks where no audio features were available:',None_counter)\n",
    "\n",
    "stop = timeit.default_timer()\n",
    "print ('Time to run this code (in seconds):',stop - start)"
   ]
  },
  {
   "cell_type": "code",
   "execution_count": 212,
   "metadata": {},
   "outputs": [
    {
     "name": "stdout",
     "output_type": "stream",
     "text": [
      "number of elements in the track_id list: 898\n"
     ]
    }
   ],
   "source": [
    "print('number of elements in the track_id list:', len(rows))"
   ]
  },
  {
   "cell_type": "code",
   "execution_count": 213,
   "metadata": {},
   "outputs": [
    {
     "name": "stdout",
     "output_type": "stream",
     "text": [
      "Shape of the dataset: (898, 18)\n"
     ]
    },
    {
     "data": {
      "text/html": [
       "<div>\n",
       "<style scoped>\n",
       "    .dataframe tbody tr th:only-of-type {\n",
       "        vertical-align: middle;\n",
       "    }\n",
       "\n",
       "    .dataframe tbody tr th {\n",
       "        vertical-align: top;\n",
       "    }\n",
       "\n",
       "    .dataframe thead th {\n",
       "        text-align: right;\n",
       "    }\n",
       "</style>\n",
       "<table border=\"1\" class=\"dataframe\">\n",
       "  <thead>\n",
       "    <tr style=\"text-align: right;\">\n",
       "      <th></th>\n",
       "      <th>danceability</th>\n",
       "      <th>energy</th>\n",
       "      <th>key</th>\n",
       "      <th>loudness</th>\n",
       "      <th>mode</th>\n",
       "      <th>speechiness</th>\n",
       "      <th>acousticness</th>\n",
       "      <th>instrumentalness</th>\n",
       "      <th>liveness</th>\n",
       "      <th>valence</th>\n",
       "      <th>tempo</th>\n",
       "      <th>type</th>\n",
       "      <th>id</th>\n",
       "      <th>uri</th>\n",
       "      <th>track_href</th>\n",
       "      <th>analysis_url</th>\n",
       "      <th>duration_ms</th>\n",
       "      <th>time_signature</th>\n",
       "    </tr>\n",
       "  </thead>\n",
       "  <tbody>\n",
       "    <tr>\n",
       "      <th>0</th>\n",
       "      <td>0.871</td>\n",
       "      <td>0.440</td>\n",
       "      <td>11</td>\n",
       "      <td>-6.250</td>\n",
       "      <td>0</td>\n",
       "      <td>0.0761</td>\n",
       "      <td>0.49900</td>\n",
       "      <td>0.000004</td>\n",
       "      <td>0.1140</td>\n",
       "      <td>0.799</td>\n",
       "      <td>137.996</td>\n",
       "      <td>audio_features</td>\n",
       "      <td>5FEXPoPnzueFJQCPRIrC3c</td>\n",
       "      <td>spotify:track:5FEXPoPnzueFJQCPRIrC3c</td>\n",
       "      <td>https://api.spotify.com/v1/tracks/5FEXPoPnzueF...</td>\n",
       "      <td>https://api.spotify.com/v1/audio-analysis/5FEX...</td>\n",
       "      <td>221267</td>\n",
       "      <td>4</td>\n",
       "    </tr>\n",
       "    <tr>\n",
       "      <th>1</th>\n",
       "      <td>0.727</td>\n",
       "      <td>0.680</td>\n",
       "      <td>2</td>\n",
       "      <td>-4.498</td>\n",
       "      <td>1</td>\n",
       "      <td>0.0286</td>\n",
       "      <td>0.01010</td>\n",
       "      <td>0.000000</td>\n",
       "      <td>0.0821</td>\n",
       "      <td>0.728</td>\n",
       "      <td>132.012</td>\n",
       "      <td>audio_features</td>\n",
       "      <td>6cmm1LMvZdB5zsCwX5BjqE</td>\n",
       "      <td>spotify:track:6cmm1LMvZdB5zsCwX5BjqE</td>\n",
       "      <td>https://api.spotify.com/v1/tracks/6cmm1LMvZdB5...</td>\n",
       "      <td>https://api.spotify.com/v1/audio-analysis/6cmm...</td>\n",
       "      <td>212507</td>\n",
       "      <td>4</td>\n",
       "    </tr>\n",
       "    <tr>\n",
       "      <th>2</th>\n",
       "      <td>0.660</td>\n",
       "      <td>0.881</td>\n",
       "      <td>10</td>\n",
       "      <td>-6.119</td>\n",
       "      <td>0</td>\n",
       "      <td>0.0849</td>\n",
       "      <td>0.07220</td>\n",
       "      <td>0.000034</td>\n",
       "      <td>0.3620</td>\n",
       "      <td>0.586</td>\n",
       "      <td>120.017</td>\n",
       "      <td>audio_features</td>\n",
       "      <td>1RUTIdTnFs8lHSc0Zr4UJB</td>\n",
       "      <td>spotify:track:1RUTIdTnFs8lHSc0Zr4UJB</td>\n",
       "      <td>https://api.spotify.com/v1/tracks/1RUTIdTnFs8l...</td>\n",
       "      <td>https://api.spotify.com/v1/audio-analysis/1RUT...</td>\n",
       "      <td>227347</td>\n",
       "      <td>4</td>\n",
       "    </tr>\n",
       "    <tr>\n",
       "      <th>3</th>\n",
       "      <td>0.457</td>\n",
       "      <td>0.906</td>\n",
       "      <td>5</td>\n",
       "      <td>-2.278</td>\n",
       "      <td>0</td>\n",
       "      <td>0.3420</td>\n",
       "      <td>0.24900</td>\n",
       "      <td>0.000000</td>\n",
       "      <td>0.1820</td>\n",
       "      <td>0.540</td>\n",
       "      <td>104.020</td>\n",
       "      <td>audio_features</td>\n",
       "      <td>5UsLjwBaTHBX4ektWIr4XX</td>\n",
       "      <td>spotify:track:5UsLjwBaTHBX4ektWIr4XX</td>\n",
       "      <td>https://api.spotify.com/v1/tracks/5UsLjwBaTHBX...</td>\n",
       "      <td>https://api.spotify.com/v1/audio-analysis/5UsL...</td>\n",
       "      <td>357707</td>\n",
       "      <td>5</td>\n",
       "    </tr>\n",
       "    <tr>\n",
       "      <th>4</th>\n",
       "      <td>0.382</td>\n",
       "      <td>0.996</td>\n",
       "      <td>7</td>\n",
       "      <td>-4.119</td>\n",
       "      <td>1</td>\n",
       "      <td>0.1040</td>\n",
       "      <td>0.00208</td>\n",
       "      <td>0.000000</td>\n",
       "      <td>0.4170</td>\n",
       "      <td>0.327</td>\n",
       "      <td>93.345</td>\n",
       "      <td>audio_features</td>\n",
       "      <td>2gscB6kDOmrv1P6qs2KXE3</td>\n",
       "      <td>spotify:track:2gscB6kDOmrv1P6qs2KXE3</td>\n",
       "      <td>https://api.spotify.com/v1/tracks/2gscB6kDOmrv...</td>\n",
       "      <td>https://api.spotify.com/v1/audio-analysis/2gsc...</td>\n",
       "      <td>147840</td>\n",
       "      <td>4</td>\n",
       "    </tr>\n",
       "  </tbody>\n",
       "</table>\n",
       "</div>"
      ],
      "text/plain": [
       "   danceability  energy  key  loudness  mode  speechiness  acousticness  \\\n",
       "0         0.871   0.440   11    -6.250     0       0.0761       0.49900   \n",
       "1         0.727   0.680    2    -4.498     1       0.0286       0.01010   \n",
       "2         0.660   0.881   10    -6.119     0       0.0849       0.07220   \n",
       "3         0.457   0.906    5    -2.278     0       0.3420       0.24900   \n",
       "4         0.382   0.996    7    -4.119     1       0.1040       0.00208   \n",
       "\n",
       "   instrumentalness  liveness  valence    tempo            type  \\\n",
       "0          0.000004    0.1140    0.799  137.996  audio_features   \n",
       "1          0.000000    0.0821    0.728  132.012  audio_features   \n",
       "2          0.000034    0.3620    0.586  120.017  audio_features   \n",
       "3          0.000000    0.1820    0.540  104.020  audio_features   \n",
       "4          0.000000    0.4170    0.327   93.345  audio_features   \n",
       "\n",
       "                       id                                   uri  \\\n",
       "0  5FEXPoPnzueFJQCPRIrC3c  spotify:track:5FEXPoPnzueFJQCPRIrC3c   \n",
       "1  6cmm1LMvZdB5zsCwX5BjqE  spotify:track:6cmm1LMvZdB5zsCwX5BjqE   \n",
       "2  1RUTIdTnFs8lHSc0Zr4UJB  spotify:track:1RUTIdTnFs8lHSc0Zr4UJB   \n",
       "3  5UsLjwBaTHBX4ektWIr4XX  spotify:track:5UsLjwBaTHBX4ektWIr4XX   \n",
       "4  2gscB6kDOmrv1P6qs2KXE3  spotify:track:2gscB6kDOmrv1P6qs2KXE3   \n",
       "\n",
       "                                          track_href  \\\n",
       "0  https://api.spotify.com/v1/tracks/5FEXPoPnzueF...   \n",
       "1  https://api.spotify.com/v1/tracks/6cmm1LMvZdB5...   \n",
       "2  https://api.spotify.com/v1/tracks/1RUTIdTnFs8l...   \n",
       "3  https://api.spotify.com/v1/tracks/5UsLjwBaTHBX...   \n",
       "4  https://api.spotify.com/v1/tracks/2gscB6kDOmrv...   \n",
       "\n",
       "                                        analysis_url  duration_ms  \\\n",
       "0  https://api.spotify.com/v1/audio-analysis/5FEX...       221267   \n",
       "1  https://api.spotify.com/v1/audio-analysis/6cmm...       212507   \n",
       "2  https://api.spotify.com/v1/audio-analysis/1RUT...       227347   \n",
       "3  https://api.spotify.com/v1/audio-analysis/5UsL...       357707   \n",
       "4  https://api.spotify.com/v1/audio-analysis/2gsc...       147840   \n",
       "\n",
       "   time_signature  \n",
       "0               4  \n",
       "1               4  \n",
       "2               4  \n",
       "3               5  \n",
       "4               4  "
      ]
     },
     "execution_count": 213,
     "metadata": {},
     "output_type": "execute_result"
    }
   ],
   "source": [
    "df_audio_features = pd.DataFrame.from_dict(rows,orient='columns')\n",
    "print(\"Shape of the dataset:\", df_audio_features.shape)\n",
    "df_audio_features.head()"
   ]
  },
  {
   "cell_type": "code",
   "execution_count": 214,
   "metadata": {},
   "outputs": [
    {
     "name": "stdout",
     "output_type": "stream",
     "text": [
      "<class 'pandas.core.frame.DataFrame'>\n",
      "RangeIndex: 898 entries, 0 to 897\n",
      "Data columns (total 18 columns):\n",
      " #   Column            Non-Null Count  Dtype  \n",
      "---  ------            --------------  -----  \n",
      " 0   danceability      898 non-null    float64\n",
      " 1   energy            898 non-null    float64\n",
      " 2   key               898 non-null    int64  \n",
      " 3   loudness          898 non-null    float64\n",
      " 4   mode              898 non-null    int64  \n",
      " 5   speechiness       898 non-null    float64\n",
      " 6   acousticness      898 non-null    float64\n",
      " 7   instrumentalness  898 non-null    float64\n",
      " 8   liveness          898 non-null    float64\n",
      " 9   valence           898 non-null    float64\n",
      " 10  tempo             898 non-null    float64\n",
      " 11  type              898 non-null    object \n",
      " 12  id                898 non-null    object \n",
      " 13  uri               898 non-null    object \n",
      " 14  track_href        898 non-null    object \n",
      " 15  analysis_url      898 non-null    object \n",
      " 16  duration_ms       898 non-null    int64  \n",
      " 17  time_signature    898 non-null    int64  \n",
      "dtypes: float64(9), int64(4), object(5)\n",
      "memory usage: 126.4+ KB\n"
     ]
    }
   ],
   "source": [
    "df_audio_features.info()"
   ]
  },
  {
   "cell_type": "code",
   "execution_count": 215,
   "metadata": {},
   "outputs": [
    {
     "data": {
      "text/plain": [
       "(898, 14)"
      ]
     },
     "execution_count": 215,
     "metadata": {},
     "output_type": "execute_result"
    }
   ],
   "source": [
    "columns_to_drop = ['analysis_url','track_href','type','uri']\n",
    "df_audio_features.drop(columns_to_drop, axis=1,inplace=True)\n",
    "\n",
    "df_audio_features.rename(columns={'id': 'track_id'}, inplace=True)\n",
    "\n",
    "df_audio_features.shape"
   ]
  },
  {
   "cell_type": "code",
   "execution_count": 216,
   "metadata": {},
   "outputs": [
    {
     "name": "stdout",
     "output_type": "stream",
     "text": [
      "Shape of the dataset: (898, 14)\n"
     ]
    },
    {
     "data": {
      "text/html": [
       "<div>\n",
       "<style scoped>\n",
       "    .dataframe tbody tr th:only-of-type {\n",
       "        vertical-align: middle;\n",
       "    }\n",
       "\n",
       "    .dataframe tbody tr th {\n",
       "        vertical-align: top;\n",
       "    }\n",
       "\n",
       "    .dataframe thead th {\n",
       "        text-align: right;\n",
       "    }\n",
       "</style>\n",
       "<table border=\"1\" class=\"dataframe\">\n",
       "  <thead>\n",
       "    <tr style=\"text-align: right;\">\n",
       "      <th></th>\n",
       "      <th>artist_name</th>\n",
       "      <th>track_name</th>\n",
       "      <th>track_id</th>\n",
       "      <th>popularity</th>\n",
       "      <th>danceability</th>\n",
       "      <th>energy</th>\n",
       "      <th>key</th>\n",
       "      <th>loudness</th>\n",
       "      <th>mode</th>\n",
       "      <th>speechiness</th>\n",
       "      <th>acousticness</th>\n",
       "      <th>instrumentalness</th>\n",
       "      <th>liveness</th>\n",
       "      <th>valence</th>\n",
       "      <th>tempo</th>\n",
       "      <th>duration_ms</th>\n",
       "      <th>time_signature</th>\n",
       "    </tr>\n",
       "  </thead>\n",
       "  <tbody>\n",
       "    <tr>\n",
       "      <th>0</th>\n",
       "      <td>Kid Cudi</td>\n",
       "      <td>Day 'N' Nite (nightmare)</td>\n",
       "      <td>5FEXPoPnzueFJQCPRIrC3c</td>\n",
       "      <td>69</td>\n",
       "      <td>0.871</td>\n",
       "      <td>0.440</td>\n",
       "      <td>11</td>\n",
       "      <td>-6.250</td>\n",
       "      <td>0</td>\n",
       "      <td>0.0761</td>\n",
       "      <td>0.49900</td>\n",
       "      <td>0.000004</td>\n",
       "      <td>0.1140</td>\n",
       "      <td>0.799</td>\n",
       "      <td>137.996</td>\n",
       "      <td>221267</td>\n",
       "      <td>4</td>\n",
       "    </tr>\n",
       "    <tr>\n",
       "      <th>1</th>\n",
       "      <td>Jay Sean</td>\n",
       "      <td>Down</td>\n",
       "      <td>6cmm1LMvZdB5zsCwX5BjqE</td>\n",
       "      <td>77</td>\n",
       "      <td>0.727</td>\n",
       "      <td>0.680</td>\n",
       "      <td>2</td>\n",
       "      <td>-4.498</td>\n",
       "      <td>1</td>\n",
       "      <td>0.0286</td>\n",
       "      <td>0.01010</td>\n",
       "      <td>0.000000</td>\n",
       "      <td>0.0821</td>\n",
       "      <td>0.728</td>\n",
       "      <td>132.012</td>\n",
       "      <td>212507</td>\n",
       "      <td>4</td>\n",
       "    </tr>\n",
       "    <tr>\n",
       "      <th>2</th>\n",
       "      <td>Kid Cudi</td>\n",
       "      <td>Up Up &amp; Away</td>\n",
       "      <td>1RUTIdTnFs8lHSc0Zr4UJB</td>\n",
       "      <td>64</td>\n",
       "      <td>0.660</td>\n",
       "      <td>0.881</td>\n",
       "      <td>10</td>\n",
       "      <td>-6.119</td>\n",
       "      <td>0</td>\n",
       "      <td>0.0849</td>\n",
       "      <td>0.07220</td>\n",
       "      <td>0.000034</td>\n",
       "      <td>0.3620</td>\n",
       "      <td>0.586</td>\n",
       "      <td>120.017</td>\n",
       "      <td>227347</td>\n",
       "      <td>4</td>\n",
       "    </tr>\n",
       "    <tr>\n",
       "      <th>3</th>\n",
       "      <td>Drake</td>\n",
       "      <td>Forever</td>\n",
       "      <td>5UsLjwBaTHBX4ektWIr4XX</td>\n",
       "      <td>71</td>\n",
       "      <td>0.457</td>\n",
       "      <td>0.906</td>\n",
       "      <td>5</td>\n",
       "      <td>-2.278</td>\n",
       "      <td>0</td>\n",
       "      <td>0.3420</td>\n",
       "      <td>0.24900</td>\n",
       "      <td>0.000000</td>\n",
       "      <td>0.1820</td>\n",
       "      <td>0.540</td>\n",
       "      <td>104.020</td>\n",
       "      <td>357707</td>\n",
       "      <td>5</td>\n",
       "    </tr>\n",
       "    <tr>\n",
       "      <th>4</th>\n",
       "      <td>Slipknot</td>\n",
       "      <td>Wait and Bleed</td>\n",
       "      <td>2gscB6kDOmrv1P6qs2KXE3</td>\n",
       "      <td>68</td>\n",
       "      <td>0.382</td>\n",
       "      <td>0.996</td>\n",
       "      <td>7</td>\n",
       "      <td>-4.119</td>\n",
       "      <td>1</td>\n",
       "      <td>0.1040</td>\n",
       "      <td>0.00208</td>\n",
       "      <td>0.000000</td>\n",
       "      <td>0.4170</td>\n",
       "      <td>0.327</td>\n",
       "      <td>93.345</td>\n",
       "      <td>147840</td>\n",
       "      <td>4</td>\n",
       "    </tr>\n",
       "  </tbody>\n",
       "</table>\n",
       "</div>"
      ],
      "text/plain": [
       "  artist_name                track_name                track_id  popularity  \\\n",
       "0    Kid Cudi  Day 'N' Nite (nightmare)  5FEXPoPnzueFJQCPRIrC3c          69   \n",
       "1    Jay Sean                      Down  6cmm1LMvZdB5zsCwX5BjqE          77   \n",
       "2    Kid Cudi              Up Up & Away  1RUTIdTnFs8lHSc0Zr4UJB          64   \n",
       "3       Drake                   Forever  5UsLjwBaTHBX4ektWIr4XX          71   \n",
       "4    Slipknot            Wait and Bleed  2gscB6kDOmrv1P6qs2KXE3          68   \n",
       "\n",
       "   danceability  energy  key  loudness  mode  speechiness  acousticness  \\\n",
       "0         0.871   0.440   11    -6.250     0       0.0761       0.49900   \n",
       "1         0.727   0.680    2    -4.498     1       0.0286       0.01010   \n",
       "2         0.660   0.881   10    -6.119     0       0.0849       0.07220   \n",
       "3         0.457   0.906    5    -2.278     0       0.3420       0.24900   \n",
       "4         0.382   0.996    7    -4.119     1       0.1040       0.00208   \n",
       "\n",
       "   instrumentalness  liveness  valence    tempo  duration_ms  time_signature  \n",
       "0          0.000004    0.1140    0.799  137.996       221267               4  \n",
       "1          0.000000    0.0821    0.728  132.012       212507               4  \n",
       "2          0.000034    0.3620    0.586  120.017       227347               4  \n",
       "3          0.000000    0.1820    0.540  104.020       357707               5  \n",
       "4          0.000000    0.4170    0.327   93.345       147840               4  "
      ]
     },
     "execution_count": 216,
     "metadata": {},
     "output_type": "execute_result"
    }
   ],
   "source": [
    "# merge both dataframes\n",
    "# the 'inner' method will make sure that we only keep track IDs present in both datasets\n",
    "df = pd.merge(df_tracks,df_audio_features,on='track_id',how='inner')\n",
    "print(\"Shape of the dataset:\", df_audio_features.shape)\n",
    "df.head()"
   ]
  },
  {
   "cell_type": "code",
   "execution_count": 217,
   "metadata": {},
   "outputs": [
    {
     "name": "stdout",
     "output_type": "stream",
     "text": [
      "<class 'pandas.core.frame.DataFrame'>\n",
      "Int64Index: 898 entries, 0 to 897\n",
      "Data columns (total 17 columns):\n",
      " #   Column            Non-Null Count  Dtype  \n",
      "---  ------            --------------  -----  \n",
      " 0   artist_name       898 non-null    object \n",
      " 1   track_name        898 non-null    object \n",
      " 2   track_id          898 non-null    object \n",
      " 3   popularity        898 non-null    int64  \n",
      " 4   danceability      898 non-null    float64\n",
      " 5   energy            898 non-null    float64\n",
      " 6   key               898 non-null    int64  \n",
      " 7   loudness          898 non-null    float64\n",
      " 8   mode              898 non-null    int64  \n",
      " 9   speechiness       898 non-null    float64\n",
      " 10  acousticness      898 non-null    float64\n",
      " 11  instrumentalness  898 non-null    float64\n",
      " 12  liveness          898 non-null    float64\n",
      " 13  valence           898 non-null    float64\n",
      " 14  tempo             898 non-null    float64\n",
      " 15  duration_ms       898 non-null    int64  \n",
      " 16  time_signature    898 non-null    int64  \n",
      "dtypes: float64(9), int64(5), object(3)\n",
      "memory usage: 126.3+ KB\n"
     ]
    }
   ],
   "source": [
    "df.info()"
   ]
  },
  {
   "cell_type": "code",
   "execution_count": 218,
   "metadata": {},
   "outputs": [
    {
     "data": {
      "text/html": [
       "<div>\n",
       "<style scoped>\n",
       "    .dataframe tbody tr th:only-of-type {\n",
       "        vertical-align: middle;\n",
       "    }\n",
       "\n",
       "    .dataframe tbody tr th {\n",
       "        vertical-align: top;\n",
       "    }\n",
       "\n",
       "    .dataframe thead th {\n",
       "        text-align: right;\n",
       "    }\n",
       "</style>\n",
       "<table border=\"1\" class=\"dataframe\">\n",
       "  <thead>\n",
       "    <tr style=\"text-align: right;\">\n",
       "      <th></th>\n",
       "      <th>artist_name</th>\n",
       "      <th>track_name</th>\n",
       "      <th>track_id</th>\n",
       "      <th>popularity</th>\n",
       "      <th>danceability</th>\n",
       "      <th>energy</th>\n",
       "      <th>key</th>\n",
       "      <th>loudness</th>\n",
       "      <th>mode</th>\n",
       "      <th>speechiness</th>\n",
       "      <th>acousticness</th>\n",
       "      <th>instrumentalness</th>\n",
       "      <th>liveness</th>\n",
       "      <th>valence</th>\n",
       "      <th>tempo</th>\n",
       "      <th>duration_ms</th>\n",
       "      <th>time_signature</th>\n",
       "    </tr>\n",
       "  </thead>\n",
       "  <tbody>\n",
       "  </tbody>\n",
       "</table>\n",
       "</div>"
      ],
      "text/plain": [
       "Empty DataFrame\n",
       "Columns: [artist_name, track_name, track_id, popularity, danceability, energy, key, loudness, mode, speechiness, acousticness, instrumentalness, liveness, valence, tempo, duration_ms, time_signature]\n",
       "Index: []"
      ]
     },
     "execution_count": 218,
     "metadata": {},
     "output_type": "execute_result"
    }
   ],
   "source": [
    "\n",
    "df[df.duplicated(subset=['artist_name','track_name'],keep=False)]"
   ]
  },
  {
   "cell_type": "code",
   "execution_count": 219,
   "metadata": {},
   "outputs": [],
   "source": [
    "df.to_csv('SpotifyAudioFeatures23.csv')"
   ]
  },
  {
   "cell_type": "code",
   "execution_count": 220,
   "metadata": {},
   "outputs": [
    {
     "data": {
      "text/html": [
       "<div>\n",
       "<style scoped>\n",
       "    .dataframe tbody tr th:only-of-type {\n",
       "        vertical-align: middle;\n",
       "    }\n",
       "\n",
       "    .dataframe tbody tr th {\n",
       "        vertical-align: top;\n",
       "    }\n",
       "\n",
       "    .dataframe thead th {\n",
       "        text-align: right;\n",
       "    }\n",
       "</style>\n",
       "<table border=\"1\" class=\"dataframe\">\n",
       "  <thead>\n",
       "    <tr style=\"text-align: right;\">\n",
       "      <th></th>\n",
       "      <th>artist_name</th>\n",
       "      <th>track_name</th>\n",
       "      <th>track_id</th>\n",
       "      <th>popularity</th>\n",
       "      <th>danceability</th>\n",
       "      <th>energy</th>\n",
       "      <th>key</th>\n",
       "      <th>loudness</th>\n",
       "      <th>mode</th>\n",
       "      <th>speechiness</th>\n",
       "      <th>acousticness</th>\n",
       "      <th>instrumentalness</th>\n",
       "      <th>liveness</th>\n",
       "      <th>valence</th>\n",
       "      <th>tempo</th>\n",
       "      <th>duration_ms</th>\n",
       "      <th>time_signature</th>\n",
       "    </tr>\n",
       "  </thead>\n",
       "  <tbody>\n",
       "    <tr>\n",
       "      <th>0</th>\n",
       "      <td>Kid Cudi</td>\n",
       "      <td>Day 'N' Nite (nightmare)</td>\n",
       "      <td>5FEXPoPnzueFJQCPRIrC3c</td>\n",
       "      <td>69</td>\n",
       "      <td>0.871</td>\n",
       "      <td>0.440</td>\n",
       "      <td>11</td>\n",
       "      <td>-6.250</td>\n",
       "      <td>0</td>\n",
       "      <td>0.0761</td>\n",
       "      <td>0.49900</td>\n",
       "      <td>0.000004</td>\n",
       "      <td>0.1140</td>\n",
       "      <td>0.799</td>\n",
       "      <td>137.996</td>\n",
       "      <td>221267</td>\n",
       "      <td>4</td>\n",
       "    </tr>\n",
       "    <tr>\n",
       "      <th>1</th>\n",
       "      <td>Jay Sean</td>\n",
       "      <td>Down</td>\n",
       "      <td>6cmm1LMvZdB5zsCwX5BjqE</td>\n",
       "      <td>77</td>\n",
       "      <td>0.727</td>\n",
       "      <td>0.680</td>\n",
       "      <td>2</td>\n",
       "      <td>-4.498</td>\n",
       "      <td>1</td>\n",
       "      <td>0.0286</td>\n",
       "      <td>0.01010</td>\n",
       "      <td>0.000000</td>\n",
       "      <td>0.0821</td>\n",
       "      <td>0.728</td>\n",
       "      <td>132.012</td>\n",
       "      <td>212507</td>\n",
       "      <td>4</td>\n",
       "    </tr>\n",
       "    <tr>\n",
       "      <th>2</th>\n",
       "      <td>Kid Cudi</td>\n",
       "      <td>Up Up &amp; Away</td>\n",
       "      <td>1RUTIdTnFs8lHSc0Zr4UJB</td>\n",
       "      <td>64</td>\n",
       "      <td>0.660</td>\n",
       "      <td>0.881</td>\n",
       "      <td>10</td>\n",
       "      <td>-6.119</td>\n",
       "      <td>0</td>\n",
       "      <td>0.0849</td>\n",
       "      <td>0.07220</td>\n",
       "      <td>0.000034</td>\n",
       "      <td>0.3620</td>\n",
       "      <td>0.586</td>\n",
       "      <td>120.017</td>\n",
       "      <td>227347</td>\n",
       "      <td>4</td>\n",
       "    </tr>\n",
       "    <tr>\n",
       "      <th>3</th>\n",
       "      <td>Drake</td>\n",
       "      <td>Forever</td>\n",
       "      <td>5UsLjwBaTHBX4ektWIr4XX</td>\n",
       "      <td>71</td>\n",
       "      <td>0.457</td>\n",
       "      <td>0.906</td>\n",
       "      <td>5</td>\n",
       "      <td>-2.278</td>\n",
       "      <td>0</td>\n",
       "      <td>0.3420</td>\n",
       "      <td>0.24900</td>\n",
       "      <td>0.000000</td>\n",
       "      <td>0.1820</td>\n",
       "      <td>0.540</td>\n",
       "      <td>104.020</td>\n",
       "      <td>357707</td>\n",
       "      <td>5</td>\n",
       "    </tr>\n",
       "    <tr>\n",
       "      <th>4</th>\n",
       "      <td>Slipknot</td>\n",
       "      <td>Wait and Bleed</td>\n",
       "      <td>2gscB6kDOmrv1P6qs2KXE3</td>\n",
       "      <td>68</td>\n",
       "      <td>0.382</td>\n",
       "      <td>0.996</td>\n",
       "      <td>7</td>\n",
       "      <td>-4.119</td>\n",
       "      <td>1</td>\n",
       "      <td>0.1040</td>\n",
       "      <td>0.00208</td>\n",
       "      <td>0.000000</td>\n",
       "      <td>0.4170</td>\n",
       "      <td>0.327</td>\n",
       "      <td>93.345</td>\n",
       "      <td>147840</td>\n",
       "      <td>4</td>\n",
       "    </tr>\n",
       "  </tbody>\n",
       "</table>\n",
       "</div>"
      ],
      "text/plain": [
       "  artist_name                track_name                track_id  popularity  \\\n",
       "0    Kid Cudi  Day 'N' Nite (nightmare)  5FEXPoPnzueFJQCPRIrC3c          69   \n",
       "1    Jay Sean                      Down  6cmm1LMvZdB5zsCwX5BjqE          77   \n",
       "2    Kid Cudi              Up Up & Away  1RUTIdTnFs8lHSc0Zr4UJB          64   \n",
       "3       Drake                   Forever  5UsLjwBaTHBX4ektWIr4XX          71   \n",
       "4    Slipknot            Wait and Bleed  2gscB6kDOmrv1P6qs2KXE3          68   \n",
       "\n",
       "   danceability  energy  key  loudness  mode  speechiness  acousticness  \\\n",
       "0         0.871   0.440   11    -6.250     0       0.0761       0.49900   \n",
       "1         0.727   0.680    2    -4.498     1       0.0286       0.01010   \n",
       "2         0.660   0.881   10    -6.119     0       0.0849       0.07220   \n",
       "3         0.457   0.906    5    -2.278     0       0.3420       0.24900   \n",
       "4         0.382   0.996    7    -4.119     1       0.1040       0.00208   \n",
       "\n",
       "   instrumentalness  liveness  valence    tempo  duration_ms  time_signature  \n",
       "0          0.000004    0.1140    0.799  137.996       221267               4  \n",
       "1          0.000000    0.0821    0.728  132.012       212507               4  \n",
       "2          0.000034    0.3620    0.586  120.017       227347               4  \n",
       "3          0.000000    0.1820    0.540  104.020       357707               5  \n",
       "4          0.000000    0.4170    0.327   93.345       147840               4  "
      ]
     },
     "execution_count": 220,
     "metadata": {},
     "output_type": "execute_result"
    }
   ],
   "source": [
    "df.head()"
   ]
  },
  {
   "cell_type": "code",
   "execution_count": null,
   "metadata": {},
   "outputs": [],
   "source": []
  }
 ],
 "metadata": {
  "interpreter": {
   "hash": "9d5a4eaf5187ae93e6fd58fccc6df71f5da32f4b6b6f1843dab2c0d205861203"
  },
  "kernelspec": {
   "display_name": "Python 3.8.12 ('ada')",
   "language": "python",
   "name": "python3"
  },
  "language_info": {
   "codemirror_mode": {
    "name": "ipython",
    "version": 3
   },
   "file_extension": ".py",
   "mimetype": "text/x-python",
   "name": "python",
   "nbconvert_exporter": "python",
   "pygments_lexer": "ipython3",
   "version": "3.8.12"
  },
  "orig_nbformat": 4
 },
 "nbformat": 4,
 "nbformat_minor": 2
}
