{
 "cells": [
  {
   "cell_type": "code",
   "execution_count": 1,
   "metadata": {},
   "outputs": [],
   "source": [
    "import pandas as pd\n",
    "df1 = pd.read_csv('data/SpotifyAudioFeatures1.csv')\n",
    "df2 = pd.read_csv('data/SpotifyAudioFeatures2.csv')\n",
    "df3 = pd.read_csv('data/SpotifyAudioFeatures3.csv')\n",
    "df4 = pd.read_csv('data/SpotifyAudioFeatures4.csv')\n",
    "df5 = pd.read_csv('data/SpotifyAudioFeatures5.csv')\n",
    "df6 = pd.read_csv('data/SpotifyAudioFeatures6.csv')\n",
    "df7 = pd.read_csv('data/SpotifyAudioFeatures7.csv')\n",
    "df8 = pd.read_csv('data/SpotifyAudioFeatures8.csv')\n",
    "df9 = pd.read_csv('data/SpotifyAudioFeatures9.csv')\n",
    "df10 = pd.read_csv('data/SpotifyAudioFeatures10.csv')\n",
    "df11 = pd.read_csv('data/SpotifyAudioFeatures11.csv')\n",
    "df12 = pd.read_csv('data/SpotifyAudioFeatures12.csv')\n",
    "df13 = pd.read_csv('data/SpotifyAudioFeatures13.csv')\n",
    "df14 = pd.read_csv('data/SpotifyAudioFeatures14.csv')\n",
    "df15 = pd.read_csv('data/SpotifyAudioFeatures15.csv')\n",
    "df16 = pd.read_csv('data/SpotifyAudioFeatures16.csv')\n",
    "df17 = pd.read_csv('data/SpotifyAudioFeatures17.csv')\n",
    "df18 = pd.read_csv('data/SpotifyAudioFeatures18.csv')\n",
    "df19 = pd.read_csv('data/SpotifyAudioFeatures19.csv')\n",
    "df20 = pd.read_csv('data/SpotifyAudioFeatures20.csv')\n",
    "df21 = pd.read_csv('data/SpotifyAudioFeatures21.csv')\n",
    "df22 = pd.read_csv('data/SpotifyAudioFeatures22.csv')\n",
    "df23 = pd.read_csv('data/SpotifyAudioFeatures23.csv')\n",
    "# I couldn't find a way to get the yar form spotify's api, so I added it manually here:\n",
    "df14['Year'] = '2000'\n",
    "df15['Year'] = '2001'\n",
    "df16['Year'] = '2002'\n",
    "df17['Year'] = '2003'\n",
    "df18['Year'] = '2004'\n",
    "df19['Year'] = '2005'\n",
    "df20['Year'] = '2006'\n",
    "df21['Year'] = '2007'\n",
    "df22['Year'] = '2008'\n",
    "df23['Year'] = '2009'\n",
    "df1['Year'] = '2010'\n",
    "df2['Year'] = '2011'\n",
    "df3['Year'] = '2012'\n",
    "df4['Year'] = '2013'\n",
    "df5['Year'] = '2014'\n",
    "df6['Year'] = '2015'\n",
    "df7['Year'] = '2016'\n",
    "df8['Year'] = '2017'\n",
    "df9['Year'] = '2018'\n",
    "df10['Year'] = '2019'\n",
    "df11['Year'] = '2020'\n",
    "df12['Year'] = '2021'\n",
    "df13['Year'] = '2022'\n",
    "\n",
    "\n",
    "frames = [df14,df15,df16,df17,df18,df19,df20,df21,df22,df23,df1,df2,df3,df4,df5,df6,df7,df8,df9,df10,df11,df12,df13]\n",
    "\n",
    "hiphop = pd.concat(frames)\n",
    "df = hiphop[hiphop.duplicated(subset=['artist_name','track_name'],keep=False)]\n",
    "hiphop.to_csv('hiphop.csv')"
   ]
  },
  {
   "cell_type": "code",
   "execution_count": null,
   "metadata": {},
   "outputs": [],
   "source": []
  }
 ],
 "metadata": {
  "interpreter": {
   "hash": "9d5a4eaf5187ae93e6fd58fccc6df71f5da32f4b6b6f1843dab2c0d205861203"
  },
  "kernelspec": {
   "display_name": "Python 3.8.12 ('ada')",
   "language": "python",
   "name": "python3"
  },
  "language_info": {
   "codemirror_mode": {
    "name": "ipython",
    "version": 3
   },
   "file_extension": ".py",
   "mimetype": "text/x-python",
   "name": "python",
   "nbconvert_exporter": "python",
   "pygments_lexer": "ipython3",
   "version": "3.8.12"
  },
  "orig_nbformat": 4
 },
 "nbformat": 4,
 "nbformat_minor": 2
}
